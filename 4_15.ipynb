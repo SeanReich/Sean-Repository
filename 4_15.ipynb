{
  "nbformat": 4,
  "nbformat_minor": 0,
  "metadata": {
    "colab": {
      "provenance": [],
      "authorship_tag": "ABX9TyP5hYECLIZjqO8h8Qtfss89",
      "include_colab_link": true
    },
    "kernelspec": {
      "name": "python3",
      "display_name": "Python 3"
    },
    "language_info": {
      "name": "python"
    }
  },
  "cells": [
    {
      "cell_type": "markdown",
      "metadata": {
        "id": "view-in-github",
        "colab_type": "text"
      },
      "source": [
        "<a href=\"https://colab.research.google.com/github/SeanReich/Sean-Repository/blob/main/4_15.ipynb\" target=\"_parent\"><img src=\"https://colab.research.google.com/assets/colab-badge.svg\" alt=\"Open In Colab\"/></a>"
      ]
    },
    {
      "cell_type": "code",
      "execution_count": null,
      "metadata": {
        "id": "G7LeTQqiBvR5"
      },
      "outputs": [],
      "source": [
        "class Animal:\n",
        "  # This is the contructor method; used to intialiae the\n",
        "  # behavior (aka attributes) for each instance (aka object)\n",
        "  # of the class\n",
        "  def __init__(self, nervs_sys, resp_sys, life_exp, gender):\n",
        "    self.nerv_sys = nerv_sys # This is an attribute's intialization\n",
        "    self.life_exp = life_exp\n",
        "    self.gender = gender\n",
        "    self.x = 0"
      ]
    },
    {
      "cell_type": "code",
      "source": [
        "class Car:\n",
        "  def __init(self, make, model, year):\n",
        "    self.make = make\n",
        "    self.model = model\n",
        "    self.year = year\n",
        "    self.utility = 'SUV'\n",
        "\n",
        "  def accelerate(self):\n",
        "    print('The car accelerates.')\n",
        "\n",
        "  def decelerate(self):\n",
        "    print('The car decelerates.')\n"
      ],
      "metadata": {
        "id": "kf5GYhCZWpUu"
      },
      "execution_count": null,
      "outputs": []
    },
    {
      "cell_type": "code",
      "source": [
        "c = Car('Ford', 150, '2023')\n",
        "d = Car('Chrysle', 300, '2020')"
      ],
      "metadata": {
        "id": "qLqC-evNYwXe"
      },
      "execution_count": null,
      "outputs": []
    }
  ]
}