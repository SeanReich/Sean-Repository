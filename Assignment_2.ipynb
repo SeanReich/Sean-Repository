{
  "nbformat": 4,
  "nbformat_minor": 0,
  "metadata": {
    "colab": {
      "provenance": [],
      "authorship_tag": "ABX9TyPKNt8R/tKGqRzjbpARS1Xe",
      "include_colab_link": true
    },
    "kernelspec": {
      "name": "python3",
      "display_name": "Python 3"
    },
    "language_info": {
      "name": "python"
    }
  },
  "cells": [
    {
      "cell_type": "markdown",
      "metadata": {
        "id": "view-in-github",
        "colab_type": "text"
      },
      "source": [
        "<a href=\"https://colab.research.google.com/github/SeanReich/Sean-Repository/blob/main/Assignment_2.ipynb\" target=\"_parent\"><img src=\"https://colab.research.google.com/assets/colab-badge.svg\" alt=\"Open In Colab\"/></a>"
      ]
    },
    {
      "cell_type": "code",
      "source": [
        "def getValues(n):\n",
        "  weights = []\n",
        "  if n < 3:\n",
        "    print('Not enough weights')\n",
        "    return none\n",
        "  else:\n",
        "    for i in range(n):\n",
        "      weights.append(float(input('Enter a eight: ')))\n",
        "    return weights[2:]\n",
        "\n",
        "  def calcAverage(alist):\n",
        "    print(sum(alist) / len(alist))\n",
        "\n",
        "n_weights = int(input('Enter number of weights to be added to the list: '))\\\n",
        "calcAverage(getValues(n_weights))"
      ],
      "metadata": {
        "id": "Dzn0xBDq4epB"
      },
      "execution_count": null,
      "outputs": []
    },
    {
      "cell_type": "code",
      "execution_count": null,
      "metadata": {
        "id": "JgLZWaaBk2S8"
      },
      "outputs": [],
      "source": [
        "while True:\n",
        "  country_code = input('Please enter a country code (or type exit to stop): ')\n",
        "  if country_code == 'exit':\n",
        "    break\n",
        "  if country_code not in allData.keys():\n",
        "    print(f'This country code does not exist: {country_code}')\n",
        "    continue\n",
        "  statistic = input('Please enter a statistic: ')\n",
        "  if statistic not in allData[country_code].keys():\n",
        "    print(f'Unknow statistic: {statistic}')\n",
        "    continue\n",
        "\n",
        "  if statistic == 'pop':\n",
        "    print(f'Population: {allData[country_code][statistic]} million people.')\n",
        "  elif statistic == 'gdp':\n",
        "    print(f'GDP: {allData[country_code][statistic]} trillion USD.')\n",
        "  elif statistic == 'ccy':\n",
        "    print(f'Currency: {allData[country_code][statistic].}')\n",
        "  else: print(f'FX: {allData[country_code][statistic]}.')"
      ]
    },
    {
      "cell_type": "code",
      "source": [
        "def calcTution(credits):\n",
        "  if credits >= 12:\n",
        "    print(f'Tuition = {20000}$.')\n",
        "  elif credits >= 1:\n",
        "    print(f'Tuition = {1200 + 1700 * credits}$.')\n",
        "  else:\n",
        "    print(f'Invalid number of credits: {credits}')\n",
        "\n",
        "  n_credits  = input('Enter number of credits: ')\n",
        "  calcTuition(n_credits)"
      ],
      "metadata": {
        "id": "yKRZKbLc4Laz"
      },
      "execution_count": null,
      "outputs": []
    },
    {
      "cell_type": "code",
      "source": [
        "def getParkingHours():\n",
        "  reutrn int(input('Enter number of hours parked: '))\n",
        "\n",
        "def calcParkingFee():\n",
        "  fee = 2.5 * getParkingHours()\n",
        "  if fee <= 6:\n",
        "    return 6\n",
        "  elif fee >= 20:\n",
        "    return 20\n",
        "  else:\n",
        "    return fee\n",
        "\n",
        "fee = calcParkingFee()\n",
        "print(f'Total fee: ${fee}')"
      ],
      "metadata": {
        "id": "1eKpSps74VW_"
      },
      "execution_count": null,
      "outputs": []
    }
  ]
}