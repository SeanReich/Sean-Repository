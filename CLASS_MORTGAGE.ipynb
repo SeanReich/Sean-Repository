{
  "nbformat": 4,
  "nbformat_minor": 0,
  "metadata": {
    "colab": {
      "provenance": [],
      "authorship_tag": "ABX9TyOYbhtirJQEq2RqYsCk5OXn",
      "include_colab_link": true
    },
    "kernelspec": {
      "name": "python3",
      "display_name": "Python 3"
    },
    "language_info": {
      "name": "python"
    }
  },
  "cells": [
    {
      "cell_type": "markdown",
      "metadata": {
        "id": "view-in-github",
        "colab_type": "text"
      },
      "source": [
        "<a href=\"https://colab.research.google.com/github/SeanReich/Sean-Repository/blob/main/CLASS_MORTGAGE.ipynb\" target=\"_parent\"><img src=\"https://colab.research.google.com/assets/colab-badge.svg\" alt=\"Open In Colab\"/></a>"
      ]
    },
    {
      "cell_type": "code",
      "execution_count": null,
      "metadata": {
        "id": "6Poypv_j-j_d"
      },
      "outputs": [],
      "source": [
        "class Mortgage:\n",
        "  def __init__(self, amount, maturity, interest)\n",
        "  self.amount = amount\n",
        "  self.maturity = maturity\n",
        "  self.__interest = interest\n",
        "\n",
        "def __str__(self):\n",
        "  return f'Mortgage info:\\n Inital loan amount: {self.amount} $\\n Maturity term: {self.maturity} years\\n Interest rate: {self.__interest}%'\n",
        "\n",
        "def get_interest(self):\n",
        "  return self.__interest\n",
        "\n",
        "def set_interest(self, newInterest):\n",
        "  if newInterest >= 0:\n",
        "    self.__interest = newInterest\n",
        "  else:\n",
        "    print('Interest must be non-negative!')\n",
        "\n",
        "def payment(self):\n",
        "  B = self.amount\n",
        "  r = self.__interest / 100\n",
        "  n = self.maturity * 12\n",
        "  return B * (r*(1+r)**n) / ((1+r)**n - 1)"
      ]
    },
    {
      "cell_type": "code",
      "source": [
        "m = Mortgage(100000, 30, 6)"
      ],
      "metadata": {
        "id": "JyEgXZCUAIm_"
      },
      "execution_count": null,
      "outputs": []
    }
  ]
}