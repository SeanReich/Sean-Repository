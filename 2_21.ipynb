{
  "nbformat": 4,
  "nbformat_minor": 0,
  "metadata": {
    "colab": {
      "provenance": [],
      "authorship_tag": "ABX9TyP3IdzEq0QaBaATgSL8f+Ee",
      "include_colab_link": true
    },
    "kernelspec": {
      "name": "python3",
      "display_name": "Python 3"
    },
    "language_info": {
      "name": "python"
    }
  },
  "cells": [
    {
      "cell_type": "markdown",
      "metadata": {
        "id": "view-in-github",
        "colab_type": "text"
      },
      "source": [
        "<a href=\"https://colab.research.google.com/github/SeanReich/Sean-Repository/blob/main/2_21.ipynb\" target=\"_parent\"><img src=\"https://colab.research.google.com/assets/colab-badge.svg\" alt=\"Open In Colab\"/></a>"
      ]
    },
    {
      "cell_type": "code",
      "execution_count": 7,
      "metadata": {
        "colab": {
          "base_uri": "https://localhost:8080/"
        },
        "id": "h2u5v65JJxM7",
        "outputId": "71bcde50-4023-4513-cef7-128be16a979e"
      },
      "outputs": [
        {
          "output_type": "stream",
          "name": "stdout",
          "text": [
            "This\n",
            "test\n",
            "This is another test\n"
          ]
        }
      ],
      "source": [
        "s = 'This is another test'\n",
        "\n",
        "this_s = s[:4]\n",
        "print(this_s)\n",
        "test_s = s[16:]\n",
        "print(test_s)\n",
        "print(s[:])"
      ]
    },
    {
      "cell_type": "code",
      "source": [
        "\n",
        "date = input('Enter Date')\n",
        "Month_date = date[:2]\n",
        "print(Month_date)\n",
        "Day_date = date[:2]\n",
        "print(Day_date)\n",
        "Year_date = date[:4]\n",
        "print(Year_date)\n",
        "\n"
      ],
      "metadata": {
        "colab": {
          "base_uri": "https://localhost:8080/"
        },
        "id": "T-pKR0iQOBRg",
        "outputId": "9572fc6b-965b-400f-ff82-1b86ea3e7b05"
      },
      "execution_count": 12,
      "outputs": [
        {
          "output_type": "stream",
          "name": "stdout",
          "text": [
            "Enter Date02/21/2024\n",
            "02\n",
            "02\n",
            "02/2\n"
          ]
        }
      ]
    },
    {
      "cell_type": "code",
      "source": [
        "date = input('Enter date (MM/DD/YYYY): ')\n",
        "\n",
        "month = date[0:2]\n",
        "day = date[3:5]\n",
        "year = date [6:10]\n",
        "print(month, day , year)"
      ],
      "metadata": {
        "colab": {
          "base_uri": "https://localhost:8080/"
        },
        "id": "ZnACqSI-R56F",
        "outputId": "a2c0b501-5c41-4a40-b19c-8f0b91672a8a"
      },
      "execution_count": 13,
      "outputs": [
        {
          "output_type": "stream",
          "name": "stdout",
          "text": [
            "Enter date (MM/DD/YYYY): 02/21/2024\n",
            "02 21 2024\n"
          ]
        }
      ]
    }
  ]
}