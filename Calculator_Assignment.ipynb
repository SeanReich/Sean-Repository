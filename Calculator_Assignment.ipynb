{
  "nbformat": 4,
  "nbformat_minor": 0,
  "metadata": {
    "colab": {
      "provenance": [],
      "authorship_tag": "ABX9TyOoBjcLyZCYpp1nwjkNCrNY",
      "include_colab_link": true
    },
    "kernelspec": {
      "name": "python3",
      "display_name": "Python 3"
    },
    "language_info": {
      "name": "python"
    }
  },
  "cells": [
    {
      "cell_type": "markdown",
      "metadata": {
        "id": "view-in-github",
        "colab_type": "text"
      },
      "source": [
        "<a href=\"https://colab.research.google.com/github/SeanReich/Sean-Repository/blob/main/Calculator_Assignment.ipynb\" target=\"_parent\"><img src=\"https://colab.research.google.com/assets/colab-badge.svg\" alt=\"Open In Colab\"/></a>"
      ]
    },
    {
      "cell_type": "markdown",
      "source": [
        "Design a calculator:\n",
        "-The calculator once starts, cannot stop unless the user chooses to (hint: infinite loop)\n",
        "-Implement all numerical operators that we discussed\n",
        "-The user has to proivde the numbers and the desired operator from the keyboard; then, the calculator will display the result\n",
        "-Numbers: int or float, operator: str\n",
        "-The calculator stops if the user enters the word \"break\" instead of an operator; it skips an iteration if the user gives an operaotr is not numerical"
      ],
      "metadata": {
        "id": "pyIMH8nU5VOb"
      }
    },
    {
      "cell_type": "code",
      "source": [
        "while True:\n",
        "  Inputfunction:input(\"function:\")\n",
        "  Inputx=float(input(\"x:\"))\n",
        "  Inputy=float(input(\"y:\"))\n",
        "  if Inputfunction ==\"break\":\n",
        "    break\n",
        "  elif Inputfunction==\"multiply\":\n",
        "    z=x * y\n",
        "  elif Inputfunction==\"add\":\n",
        "    z=x + y\n",
        "  elif Inputfunction==\"subract\":\n",
        "    z=x - y\n",
        "  elif Inputfunction==\"Divide\":\n",
        "    z =x / y\n",
        "  elif Inputfunction==\"power\":\n",
        "    z=x ** y\n",
        "  elif Inputfunction==\"floor divide\":\n",
        "    z=x // y\n",
        "  elif Inputfunction==\"remainder division\":\n",
        "    z=x % y\n",
        "  else:\n",
        "    print(\"Invalid Operator\")\n",
        "    continue\n",
        "  print(z)\n",
        "\n"
      ],
      "metadata": {
        "id": "4n1de91-55Wr"
      },
      "execution_count": null,
      "outputs": []
    }
  ]
}